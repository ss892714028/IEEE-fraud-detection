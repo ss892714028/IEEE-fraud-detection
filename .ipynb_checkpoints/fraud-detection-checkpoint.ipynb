{
 "cells": [
  {
   "cell_type": "code",
   "execution_count": 1,
   "metadata": {},
   "outputs": [],
   "source": [
    "import pandas as pd\n",
    "import sklearn"
   ]
  },
  {
   "cell_type": "code",
   "execution_count": 172,
   "metadata": {},
   "outputs": [],
   "source": [
    "# load data\n",
    "train_identity = pd.read_csv(r'.\\ieee-fraud-detection\\train_identity.csv')\n",
    "train_transaction = pd.read_csv(r'.\\ieee-fraud-detection\\train_transaction.csv')\n",
    "test_identity = pd.read_csv(r'.\\ieee-fraud-detection\\test_identity.csv')\n",
    "test_transaction = pd.read_csv(r'.\\ieee-fraud-detection\\test_transaction.csv')"
   ]
  },
  {
   "cell_type": "code",
   "execution_count": 181,
   "metadata": {},
   "outputs": [],
   "source": [
    "# left join on TransactionID, store in train\n",
    "train = pd.merge(train_transaction, train_identity, on = 'TransactionID', how = 'left')\n",
    "test = pd.merge(test_transaction, test_identity, on = 'TransactionID', how = 'left')\n",
    "train_label = train['isFraud']\n",
    "train = train.drop(columns = ['isFraud'])"
   ]
  },
  {
   "cell_type": "code",
   "execution_count": 183,
   "metadata": {},
   "outputs": [],
   "source": [
    "all_data = pd.concat([train, test], axis = 0)"
   ]
  },
  {
   "cell_type": "code",
   "execution_count": 184,
   "metadata": {
    "scrolled": true
   },
   "outputs": [
    {
     "data": {
      "text/plain": [
       "{dtype('int64'), dtype('float64'), dtype('O')}"
      ]
     },
     "execution_count": 184,
     "metadata": {},
     "output_type": "execute_result"
    }
   ],
   "source": [
    "# make a dictionary to store all dtypes of all features\n",
    "dtype_dict = {}\n",
    "for i in all_data.columns.tolist():\n",
    "    dtype_dict[i]= train[i].dtype\n",
    "# print unique data type\n",
    "set(dtype_dict.values())"
   ]
  },
  {
   "cell_type": "code",
   "execution_count": 185,
   "metadata": {},
   "outputs": [],
   "source": [
    "# make a dictionary to store all feature type\n",
    "# we know int and float are continuous O is categorical\n",
    "# cont for continuous\n",
    "# cat for catagorical\n",
    "feature_type = {}\n",
    "for i in dtype_dict.keys():\n",
    "    if dtype_dict[i] == 'int64':\n",
    "        feature_type[i] = 'cont'\n",
    "    if dtype_dict[i] == 'float64':\n",
    "        feature_type[i] = 'cont'\n",
    "    if dtype_dict[i] == 'O':\n",
    "        feature_type[i] = 'cat'\n",
    "    "
   ]
  },
  {
   "cell_type": "code",
   "execution_count": 186,
   "metadata": {},
   "outputs": [],
   "source": [
    "# find percentage of non null value of each feature\n",
    "null = {}\n",
    "for i in all_data.columns.tolist():\n",
    "    null[i] = all_data[i].isnull().value_counts()[False]/all_data.shape[0]\n"
   ]
  },
  {
   "cell_type": "code",
   "execution_count": 191,
   "metadata": {
    "scrolled": true
   },
   "outputs": [
    {
     "name": "stdout",
     "output_type": "stream",
     "text": [
      "ProductCD has 5 unique values\n",
      "card4 has 5 unique values\n",
      "card6 has 5 unique values\n",
      "P_emaildomain has 61 unique values\n",
      "R_emaildomain has 61 unique values\n",
      "M1 has 3 unique values\n",
      "M2 has 3 unique values\n",
      "M3 has 3 unique values\n",
      "M4 has 4 unique values\n",
      "M5 has 3 unique values\n",
      "M6 has 3 unique values\n",
      "M7 has 3 unique values\n",
      "M8 has 3 unique values\n",
      "M9 has 3 unique values\n",
      "id_12 has 3 unique values\n",
      "id_15 has 4 unique values\n",
      "id_16 has 3 unique values\n",
      "id_23 has 4 unique values\n",
      "id_27 has 3 unique values\n",
      "id_28 has 3 unique values\n",
      "id_29 has 3 unique values\n",
      "id_30 has 88 unique values\n",
      "id_31 has 173 unique values\n",
      "id_33 has 462 unique values\n",
      "id_34 has 5 unique values\n",
      "id_35 has 3 unique values\n",
      "id_36 has 3 unique values\n",
      "id_37 has 3 unique values\n",
      "id_38 has 3 unique values\n",
      "DeviceType has 3 unique values\n",
      "DeviceInfo has 2800 unique values\n"
     ]
    }
   ],
   "source": [
    "# check the number of unique values of each categorical features\n",
    "for i in all_data.columns.tolist():\n",
    "    if feature_type[i] == 'cat':\n",
    "        print('{} has {} unique values'.format(i,len(set(all_data[i].unique()))))"
   ]
  }
 ],
 "metadata": {
  "kernelspec": {
   "display_name": "Python 3",
   "language": "python",
   "name": "python3"
  },
  "language_info": {
   "codemirror_mode": {
    "name": "ipython",
    "version": 3
   },
   "file_extension": ".py",
   "mimetype": "text/x-python",
   "name": "python",
   "nbconvert_exporter": "python",
   "pygments_lexer": "ipython3",
   "version": "3.6.7"
  }
 },
 "nbformat": 4,
 "nbformat_minor": 2
}
