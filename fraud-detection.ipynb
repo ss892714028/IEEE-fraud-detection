{
 "cells": [
  {
   "cell_type": "code",
   "execution_count": 2,
   "metadata": {},
   "outputs": [],
   "source": [
    "import pandas as pd\n",
    "import sklearn\n",
    "import datetime\n",
    "import time"
   ]
  },
  {
   "cell_type": "code",
   "execution_count": 3,
   "metadata": {},
   "outputs": [],
   "source": [
    "# load data\n",
    "train_identity = pd.read_csv(r'.\\ieee-fraud-detection\\train_identity.csv')\n",
    "train_transaction = pd.read_csv(r'.\\ieee-fraud-detection\\train_transaction.csv')\n",
    "test_identity = pd.read_csv(r'.\\ieee-fraud-detection\\test_identity.csv')\n",
    "test_transaction = pd.read_csv(r'.\\ieee-fraud-detection\\test_transaction.csv')"
   ]
  },
  {
   "cell_type": "code",
   "execution_count": 4,
   "metadata": {},
   "outputs": [],
   "source": [
    "# left join on TransactionID, store in train\n",
    "train = pd.merge(train_transaction, train_identity, on = 'TransactionID', how = 'left')\n",
    "test = pd.merge(test_transaction, test_identity, on = 'TransactionID', how = 'left')\n",
    "train_label = train['isFraud']\n",
    "train = train.drop(columns = ['isFraud'])"
   ]
  },
  {
   "cell_type": "code",
   "execution_count": 5,
   "metadata": {},
   "outputs": [],
   "source": [
    "all_data = pd.concat([train, test], axis = 0)"
   ]
  },
  {
   "cell_type": "code",
   "execution_count": 389,
   "metadata": {
    "scrolled": true
   },
   "outputs": [],
   "source": [
    "def dataloader():\n",
    "    train_identity = pd.read_csv(r'.\\ieee-fraud-detection\\train_identity.csv')\n",
    "    train_transaction = pd.read_csv(r'.\\ieee-fraud-detection\\train_transaction.csv')\n",
    "    test_identity = pd.read_csv(r'.\\ieee-fraud-detection\\test_identity.csv')\n",
    "    test_transaction = pd.read_csv(r'.\\ieee-fraud-detection\\test_transaction.csv')\n",
    "    train = pd.merge(train_transaction, train_identity, on = 'TransactionID', how = 'left')\n",
    "    test = pd.merge(test_transaction, test_identity, on = 'TransactionID', how = 'left')\n",
    "    train_label = train['isFraud']\n",
    "    train = train.drop(columns = ['isFraud'])\n",
    "    all_data = pd.concat([train, test], axis = 0)\n",
    "    return all_data, train, test, train_label"
   ]
  },
  {
   "cell_type": "code",
   "execution_count": 7,
   "metadata": {},
   "outputs": [],
   "source": [
    "def get_feature_type(df):\n",
    "    # make a dictionary to store all feature type\n",
    "    # we know int and float are continuous O is categorical\n",
    "    # cont for continuous\n",
    "    # cat for catagorical\n",
    "    dtype_dict = {}\n",
    "    for i in df.columns.tolist():\n",
    "        dtype_dict[i]= train[i].dtype\n",
    "    \n",
    "    feature_type = {}\n",
    "    for i in dtype_dict.keys():\n",
    "        if dtype_dict[i] == 'int64':\n",
    "            feature_type[i] = 'cont'\n",
    "        if dtype_dict[i] == 'float64':\n",
    "            feature_type[i] = 'cont'\n",
    "        if dtype_dict[i] == 'O':\n",
    "            feature_type[i] = 'cat'\n",
    "    return feature_type"
   ]
  },
  {
   "cell_type": "code",
   "execution_count": 32,
   "metadata": {},
   "outputs": [],
   "source": [
    "def find_unique_value(df):\n",
    "    feature_type = get_feature_type(df)\n",
    "    feature_unique_value = {}\n",
    "    for i in df.columns.tolist():\n",
    "        if feature_type[i] == 'cat':\n",
    "            feature_unique_value[i]=len(set(all_data[i].unique()))\n",
    "    return feature_unique_value\n",
    "\n",
    "def reduce_f_dim(col, critical_value):\n",
    "    temp = col.value_counts().to_dict()\n",
    "    total = sum(temp.values())\n",
    "    new_col = []\n",
    "    for keys in col:\n",
    "        if temp[keys] / total > critical_value:\n",
    "            new_col.append(keys)\n",
    "        else:\n",
    "            new_col.append('etc')\n",
    "    return new_col\n",
    "\n",
    "def categorical_feature_reduce_dim(df, critical_feature_num, critical_value):\n",
    "    feature_unique_value = find_unique_value(all_data)\n",
    "    for i in feature_unique_value.keys():\n",
    "        if feature_unique_value[i] > critical_feature_num:\n",
    "            col = df[i]\n",
    "            fill_value = 'null'\n",
    "            col = col.fillna(fill_value)\n",
    "            col = reduce_f_dim(col, critical_value)\n",
    "            df[i] = col\n",
    "    return df\n",
    "temp = categorical_feature_reduce_dim(train, 8, 0.05)"
   ]
  },
  {
   "cell_type": "code",
   "execution_count": 9,
   "metadata": {},
   "outputs": [],
   "source": [
    "def add_date(df):\n",
    "    startdate = datetime.datetime.strptime('20190101', '%Y%m%d')\n",
    "    df['Date'] = df['TransactionDT'].apply(lambda x: (startdate + datetime.timedelta(seconds=x)))\n",
    "    df['Week'] = df['Date'].dt.dayofweek\n",
    "    df['days'] = df['Date'].dt.day\n",
    "    df['hours'] = df['Date'].dt.hour\n",
    "    df = df.drop(columns=['Date'])\n",
    "    return df"
   ]
  },
  {
   "cell_type": "code",
   "execution_count": 24,
   "metadata": {},
   "outputs": [],
   "source": [
    "# find percentage of non null value of each feature\n",
    "def find_null_percentage(df):\n",
    "    null = {}\n",
    "    for i in df.columns.tolist():\n",
    "        null[i] = 1 - df[i].isnull().value_counts()[False]/df.shape[0]\n",
    "    return null\n",
    "\n",
    "def fill_na_numeric(df, critical_value):\n",
    "    original_dim = df.shape[1]\n",
    "    null = find_null_percentage(all_data)\n",
    "    columns_to_drop = []\n",
    "    for i in null.keys():\n",
    "        if null[i] > critical_value:\n",
    "            columns_to_drop.append(i)\n",
    "    df = df.drop(columns=columns_to_drop)\n",
    "\n",
    "    return df"
   ]
  },
  {
   "cell_type": "code",
   "execution_count": 33,
   "metadata": {},
   "outputs": [
    {
     "name": "stdout",
     "output_type": "stream",
     "text": [
      "(590540, 436)\n"
     ]
    }
   ],
   "source": [
    "temp = add_date(temp)\n",
    "print(temp.shape)\n",
    "temp = fill_na_numeric(temp, 0.25)\n"
   ]
  },
  {
   "cell_type": "code",
   "execution_count": 34,
   "metadata": {},
   "outputs": [
    {
     "data": {
      "text/plain": [
       "(590540, 203)"
      ]
     },
     "execution_count": 34,
     "metadata": {},
     "output_type": "execute_result"
    }
   ],
   "source": [
    "temp.shape"
   ]
  },
  {
   "cell_type": "code",
   "execution_count": 22,
   "metadata": {},
   "outputs": [],
   "source": [
    "null = find_null_percentage(all_data)"
   ]
  },
  {
   "cell_type": "code",
   "execution_count": 35,
   "metadata": {},
   "outputs": [
    {
     "data": {
      "text/plain": [
       "['TransactionID',\n",
       " 'TransactionDT',\n",
       " 'TransactionAmt',\n",
       " 'ProductCD',\n",
       " 'card1',\n",
       " 'card2',\n",
       " 'card3',\n",
       " 'card4',\n",
       " 'card5',\n",
       " 'card6',\n",
       " 'addr1',\n",
       " 'addr2',\n",
       " 'P_emaildomain',\n",
       " 'C1',\n",
       " 'C2',\n",
       " 'C3',\n",
       " 'C4',\n",
       " 'C5',\n",
       " 'C6',\n",
       " 'C7',\n",
       " 'C8',\n",
       " 'C9',\n",
       " 'C10',\n",
       " 'C11',\n",
       " 'C12',\n",
       " 'C13',\n",
       " 'C14',\n",
       " 'D1',\n",
       " 'D4',\n",
       " 'D10',\n",
       " 'D15',\n",
       " 'V12',\n",
       " 'V13',\n",
       " 'V14',\n",
       " 'V15',\n",
       " 'V16',\n",
       " 'V17',\n",
       " 'V18',\n",
       " 'V19',\n",
       " 'V20',\n",
       " 'V21',\n",
       " 'V22',\n",
       " 'V23',\n",
       " 'V24',\n",
       " 'V25',\n",
       " 'V26',\n",
       " 'V27',\n",
       " 'V28',\n",
       " 'V29',\n",
       " 'V30',\n",
       " 'V31',\n",
       " 'V32',\n",
       " 'V33',\n",
       " 'V34',\n",
       " 'V35',\n",
       " 'V36',\n",
       " 'V37',\n",
       " 'V38',\n",
       " 'V39',\n",
       " 'V40',\n",
       " 'V41',\n",
       " 'V42',\n",
       " 'V43',\n",
       " 'V44',\n",
       " 'V45',\n",
       " 'V46',\n",
       " 'V47',\n",
       " 'V48',\n",
       " 'V49',\n",
       " 'V50',\n",
       " 'V51',\n",
       " 'V52',\n",
       " 'V53',\n",
       " 'V54',\n",
       " 'V55',\n",
       " 'V56',\n",
       " 'V57',\n",
       " 'V58',\n",
       " 'V59',\n",
       " 'V60',\n",
       " 'V61',\n",
       " 'V62',\n",
       " 'V63',\n",
       " 'V64',\n",
       " 'V65',\n",
       " 'V66',\n",
       " 'V67',\n",
       " 'V68',\n",
       " 'V69',\n",
       " 'V70',\n",
       " 'V71',\n",
       " 'V72',\n",
       " 'V73',\n",
       " 'V74',\n",
       " 'V75',\n",
       " 'V76',\n",
       " 'V77',\n",
       " 'V78',\n",
       " 'V79',\n",
       " 'V80',\n",
       " 'V81',\n",
       " 'V82',\n",
       " 'V83',\n",
       " 'V84',\n",
       " 'V85',\n",
       " 'V86',\n",
       " 'V87',\n",
       " 'V88',\n",
       " 'V89',\n",
       " 'V90',\n",
       " 'V91',\n",
       " 'V92',\n",
       " 'V93',\n",
       " 'V94',\n",
       " 'V95',\n",
       " 'V96',\n",
       " 'V97',\n",
       " 'V98',\n",
       " 'V99',\n",
       " 'V100',\n",
       " 'V101',\n",
       " 'V102',\n",
       " 'V103',\n",
       " 'V104',\n",
       " 'V105',\n",
       " 'V106',\n",
       " 'V107',\n",
       " 'V108',\n",
       " 'V109',\n",
       " 'V110',\n",
       " 'V111',\n",
       " 'V112',\n",
       " 'V113',\n",
       " 'V114',\n",
       " 'V115',\n",
       " 'V116',\n",
       " 'V117',\n",
       " 'V118',\n",
       " 'V119',\n",
       " 'V120',\n",
       " 'V121',\n",
       " 'V122',\n",
       " 'V123',\n",
       " 'V124',\n",
       " 'V125',\n",
       " 'V126',\n",
       " 'V127',\n",
       " 'V128',\n",
       " 'V129',\n",
       " 'V130',\n",
       " 'V131',\n",
       " 'V132',\n",
       " 'V133',\n",
       " 'V134',\n",
       " 'V135',\n",
       " 'V136',\n",
       " 'V137',\n",
       " 'V279',\n",
       " 'V280',\n",
       " 'V281',\n",
       " 'V282',\n",
       " 'V283',\n",
       " 'V284',\n",
       " 'V285',\n",
       " 'V286',\n",
       " 'V287',\n",
       " 'V288',\n",
       " 'V289',\n",
       " 'V290',\n",
       " 'V291',\n",
       " 'V292',\n",
       " 'V293',\n",
       " 'V294',\n",
       " 'V295',\n",
       " 'V296',\n",
       " 'V297',\n",
       " 'V298',\n",
       " 'V299',\n",
       " 'V300',\n",
       " 'V301',\n",
       " 'V302',\n",
       " 'V303',\n",
       " 'V304',\n",
       " 'V305',\n",
       " 'V306',\n",
       " 'V307',\n",
       " 'V308',\n",
       " 'V309',\n",
       " 'V310',\n",
       " 'V311',\n",
       " 'V312',\n",
       " 'V313',\n",
       " 'V314',\n",
       " 'V315',\n",
       " 'V316',\n",
       " 'V317',\n",
       " 'V318',\n",
       " 'V319',\n",
       " 'V320',\n",
       " 'V321',\n",
       " 'Week',\n",
       " 'days',\n",
       " 'hours']"
      ]
     },
     "execution_count": 35,
     "metadata": {},
     "output_type": "execute_result"
    }
   ],
   "source": [
    "temp.columns.tolist()"
   ]
  },
  {
   "cell_type": "code",
   "execution_count": 388,
   "metadata": {},
   "outputs": [
    {
     "data": {
      "text/plain": [
       "200"
      ]
     },
     "execution_count": 388,
     "metadata": {},
     "output_type": "execute_result"
    }
   ],
   "source": [
    "len([i for i in null.values() if i < 0.25])"
   ]
  },
  {
   "cell_type": "code",
   "execution_count": 323,
   "metadata": {},
   "outputs": [
    {
     "data": {
      "text/plain": [
       "{'ProductCD': 5,\n",
       " 'card4': 5,\n",
       " 'card6': 5,\n",
       " 'P_emaildomain': 61,\n",
       " 'R_emaildomain': 61,\n",
       " 'M1': 3,\n",
       " 'M2': 3,\n",
       " 'M3': 3,\n",
       " 'M4': 4,\n",
       " 'M5': 3,\n",
       " 'M6': 3,\n",
       " 'M7': 3,\n",
       " 'M8': 3,\n",
       " 'M9': 3,\n",
       " 'id_12': 3,\n",
       " 'id_15': 4,\n",
       " 'id_16': 3,\n",
       " 'id_23': 4,\n",
       " 'id_27': 3,\n",
       " 'id_28': 3,\n",
       " 'id_29': 3,\n",
       " 'id_30': 88,\n",
       " 'id_31': 173,\n",
       " 'id_33': 462,\n",
       " 'id_34': 5,\n",
       " 'id_35': 3,\n",
       " 'id_36': 3,\n",
       " 'id_37': 3,\n",
       " 'id_38': 3,\n",
       " 'DeviceType': 3,\n",
       " 'DeviceInfo': 2800}"
      ]
     },
     "execution_count": 323,
     "metadata": {},
     "output_type": "execute_result"
    }
   ],
   "source": [
    "find_unique_value(all_data)"
   ]
  },
  {
   "cell_type": "code",
   "execution_count": 351,
   "metadata": {},
   "outputs": [
    {
     "data": {
      "text/plain": [
       "0          19.0\n",
       "1           NaN\n",
       "2         287.0\n",
       "3           NaN\n",
       "4           NaN\n",
       "5          36.0\n",
       "6           0.0\n",
       "7           NaN\n",
       "8           NaN\n",
       "9          19.0\n",
       "10          NaN\n",
       "11          NaN\n",
       "12          NaN\n",
       "13          NaN\n",
       "14          NaN\n",
       "15          3.0\n",
       "16          NaN\n",
       "17          NaN\n",
       "18          5.0\n",
       "19          NaN\n",
       "20          0.0\n",
       "21          NaN\n",
       "22          NaN\n",
       "23          4.0\n",
       "24          NaN\n",
       "25          NaN\n",
       "26          NaN\n",
       "27         17.0\n",
       "28          NaN\n",
       "29          NaN\n",
       "          ...  \n",
       "506661      NaN\n",
       "506662      NaN\n",
       "506663     66.0\n",
       "506664    153.0\n",
       "506665      NaN\n",
       "506666      NaN\n",
       "506667      9.0\n",
       "506668      8.0\n",
       "506669     13.0\n",
       "506670      NaN\n",
       "506671      NaN\n",
       "506672      NaN\n",
       "506673     11.0\n",
       "506674      NaN\n",
       "506675      NaN\n",
       "506676      NaN\n",
       "506677      NaN\n",
       "506678      NaN\n",
       "506679      NaN\n",
       "506680      NaN\n",
       "506681      NaN\n",
       "506682      9.0\n",
       "506683      0.0\n",
       "506684      NaN\n",
       "506685      NaN\n",
       "506686      NaN\n",
       "506687      NaN\n",
       "506688      NaN\n",
       "506689      NaN\n",
       "506690      NaN\n",
       "Name: dist1, Length: 1097231, dtype: float64"
      ]
     },
     "execution_count": 351,
     "metadata": {},
     "output_type": "execute_result"
    }
   ],
   "source": [
    "all_data['dist1']"
   ]
  }
 ],
 "metadata": {
  "kernelspec": {
   "display_name": "Python 3",
   "language": "python",
   "name": "python3"
  },
  "language_info": {
   "codemirror_mode": {
    "name": "ipython",
    "version": 3
   },
   "file_extension": ".py",
   "mimetype": "text/x-python",
   "name": "python",
   "nbconvert_exporter": "python",
   "pygments_lexer": "ipython3",
   "version": "3.6.7"
  }
 },
 "nbformat": 4,
 "nbformat_minor": 2
}
